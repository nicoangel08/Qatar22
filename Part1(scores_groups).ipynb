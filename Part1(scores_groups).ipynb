{
 "cells": [
  {
   "cell_type": "code",
   "execution_count": 77,
   "id": "f27a4128",
   "metadata": {},
   "outputs": [],
   "source": [
    "import pandas as pd\n",
    "from string import ascii_uppercase as alphabet\n",
    "import pickle\n",
    "from bs4 import BeautifulSoup\n",
    "import requests"
   ]
  },
  {
   "cell_type": "code",
   "execution_count": 36,
   "id": "5829f142",
   "metadata": {},
   "outputs": [],
   "source": [
    "all_tables = pd.read_html('https://en.wikipedia.org/wiki/2022_FIFA_World_Cup')"
   ]
  },
  {
   "cell_type": "code",
   "execution_count": 57,
   "id": "c3be8fcb",
   "metadata": {},
   "outputs": [
    {
     "data": {
      "text/html": [
       "<div>\n",
       "<style scoped>\n",
       "    .dataframe tbody tr th:only-of-type {\n",
       "        vertical-align: middle;\n",
       "    }\n",
       "\n",
       "    .dataframe tbody tr th {\n",
       "        vertical-align: top;\n",
       "    }\n",
       "\n",
       "    .dataframe thead th {\n",
       "        text-align: right;\n",
       "    }\n",
       "</style>\n",
       "<table border=\"1\" class=\"dataframe\">\n",
       "  <thead>\n",
       "    <tr style=\"text-align: right;\">\n",
       "      <th></th>\n",
       "      <th>Pos</th>\n",
       "      <th>Teamvte</th>\n",
       "      <th>Pld</th>\n",
       "      <th>W</th>\n",
       "      <th>D</th>\n",
       "      <th>L</th>\n",
       "      <th>GF</th>\n",
       "      <th>GA</th>\n",
       "      <th>GD</th>\n",
       "      <th>Pts</th>\n",
       "      <th>Qualification</th>\n",
       "    </tr>\n",
       "  </thead>\n",
       "  <tbody>\n",
       "    <tr>\n",
       "      <th>0</th>\n",
       "      <td>1</td>\n",
       "      <td>Portugal</td>\n",
       "      <td>3</td>\n",
       "      <td>2</td>\n",
       "      <td>0</td>\n",
       "      <td>1</td>\n",
       "      <td>6</td>\n",
       "      <td>4</td>\n",
       "      <td>+2</td>\n",
       "      <td>6</td>\n",
       "      <td>Advanced to knockout stage</td>\n",
       "    </tr>\n",
       "    <tr>\n",
       "      <th>1</th>\n",
       "      <td>2</td>\n",
       "      <td>South Korea</td>\n",
       "      <td>3</td>\n",
       "      <td>1</td>\n",
       "      <td>1</td>\n",
       "      <td>1</td>\n",
       "      <td>4</td>\n",
       "      <td>4</td>\n",
       "      <td>0</td>\n",
       "      <td>4</td>\n",
       "      <td>Advanced to knockout stage</td>\n",
       "    </tr>\n",
       "    <tr>\n",
       "      <th>2</th>\n",
       "      <td>3</td>\n",
       "      <td>Uruguay</td>\n",
       "      <td>3</td>\n",
       "      <td>1</td>\n",
       "      <td>1</td>\n",
       "      <td>1</td>\n",
       "      <td>2</td>\n",
       "      <td>2</td>\n",
       "      <td>0</td>\n",
       "      <td>4</td>\n",
       "      <td>NaN</td>\n",
       "    </tr>\n",
       "    <tr>\n",
       "      <th>3</th>\n",
       "      <td>4</td>\n",
       "      <td>Ghana</td>\n",
       "      <td>3</td>\n",
       "      <td>1</td>\n",
       "      <td>0</td>\n",
       "      <td>2</td>\n",
       "      <td>5</td>\n",
       "      <td>7</td>\n",
       "      <td>−2</td>\n",
       "      <td>3</td>\n",
       "      <td>NaN</td>\n",
       "    </tr>\n",
       "  </tbody>\n",
       "</table>\n",
       "</div>"
      ],
      "text/plain": [
       "   Pos      Teamvte  Pld  W  D  L  GF  GA  GD  Pts               Qualification\n",
       "0    1     Portugal    3  2  0  1   6   4  +2    6  Advanced to knockout stage\n",
       "1    2  South Korea    3  1  1  1   4   4   0    4  Advanced to knockout stage\n",
       "2    3      Uruguay    3  1  1  1   2   2   0    4                         NaN\n",
       "3    4        Ghana    3  1  0  2   5   7  −2    3                         NaN"
      ]
     },
     "execution_count": 57,
     "metadata": {},
     "output_type": "execute_result"
    }
   ],
   "source": [
    "#collecting all the tables with the information on all the Group Stages\n",
    "all_tables[9]\n",
    "all_tables[16]\n",
    "all_tables[23]\n",
    "all_tables[30]\n",
    "all_tables[37]\n",
    "all_tables[44]\n",
    "all_tables[51]\n",
    "all_tables[58]"
   ]
  },
  {
   "cell_type": "code",
   "execution_count": 68,
   "id": "3a067de2",
   "metadata": {},
   "outputs": [],
   "source": [
    "dict_table = {}\n",
    "\n",
    "for letter, i in zip(alphabet, range(9,65,7)):\n",
    "    #grabbing each tables and creating a dataframe for each group\n",
    "    df= all_tables[i]\n",
    "    df.rename(columns={df.columns[1]: 'Team'}, inplace=True)\n",
    "    #Removing Qualification column\n",
    "    df.pop('Qualification')\n",
    "    dict_table[f'Group {letter}'] = df"
   ]
  },
  {
   "cell_type": "code",
   "execution_count": 70,
   "id": "7d9eda50",
   "metadata": {},
   "outputs": [
    {
     "data": {
      "text/plain": [
       "dict_keys(['Group A', 'Group B', 'Group C', 'Group D', 'Group E', 'Group F', 'Group G', 'Group H'])"
      ]
     },
     "execution_count": 70,
     "metadata": {},
     "output_type": "execute_result"
    }
   ],
   "source": [
    "dict_table.keys()"
   ]
  },
  {
   "cell_type": "code",
   "execution_count": 71,
   "id": "119376a0",
   "metadata": {},
   "outputs": [
    {
     "data": {
      "text/html": [
       "<div>\n",
       "<style scoped>\n",
       "    .dataframe tbody tr th:only-of-type {\n",
       "        vertical-align: middle;\n",
       "    }\n",
       "\n",
       "    .dataframe tbody tr th {\n",
       "        vertical-align: top;\n",
       "    }\n",
       "\n",
       "    .dataframe thead th {\n",
       "        text-align: right;\n",
       "    }\n",
       "</style>\n",
       "<table border=\"1\" class=\"dataframe\">\n",
       "  <thead>\n",
       "    <tr style=\"text-align: right;\">\n",
       "      <th></th>\n",
       "      <th>Pos</th>\n",
       "      <th>Team</th>\n",
       "      <th>Pld</th>\n",
       "      <th>W</th>\n",
       "      <th>D</th>\n",
       "      <th>L</th>\n",
       "      <th>GF</th>\n",
       "      <th>GA</th>\n",
       "      <th>GD</th>\n",
       "      <th>Pts</th>\n",
       "    </tr>\n",
       "  </thead>\n",
       "  <tbody>\n",
       "    <tr>\n",
       "      <th>0</th>\n",
       "      <td>1</td>\n",
       "      <td>Netherlands</td>\n",
       "      <td>3</td>\n",
       "      <td>2</td>\n",
       "      <td>1</td>\n",
       "      <td>0</td>\n",
       "      <td>5</td>\n",
       "      <td>1</td>\n",
       "      <td>+4</td>\n",
       "      <td>7</td>\n",
       "    </tr>\n",
       "    <tr>\n",
       "      <th>1</th>\n",
       "      <td>2</td>\n",
       "      <td>Senegal</td>\n",
       "      <td>3</td>\n",
       "      <td>2</td>\n",
       "      <td>0</td>\n",
       "      <td>1</td>\n",
       "      <td>5</td>\n",
       "      <td>4</td>\n",
       "      <td>+1</td>\n",
       "      <td>6</td>\n",
       "    </tr>\n",
       "    <tr>\n",
       "      <th>2</th>\n",
       "      <td>3</td>\n",
       "      <td>Ecuador</td>\n",
       "      <td>3</td>\n",
       "      <td>1</td>\n",
       "      <td>1</td>\n",
       "      <td>1</td>\n",
       "      <td>4</td>\n",
       "      <td>3</td>\n",
       "      <td>+1</td>\n",
       "      <td>4</td>\n",
       "    </tr>\n",
       "    <tr>\n",
       "      <th>3</th>\n",
       "      <td>4</td>\n",
       "      <td>Qatar (H)</td>\n",
       "      <td>3</td>\n",
       "      <td>0</td>\n",
       "      <td>0</td>\n",
       "      <td>3</td>\n",
       "      <td>1</td>\n",
       "      <td>7</td>\n",
       "      <td>−6</td>\n",
       "      <td>0</td>\n",
       "    </tr>\n",
       "  </tbody>\n",
       "</table>\n",
       "</div>"
      ],
      "text/plain": [
       "   Pos         Team  Pld  W  D  L  GF  GA  GD  Pts\n",
       "0    1  Netherlands    3  2  1  0   5   1  +4    7\n",
       "1    2      Senegal    3  2  0  1   5   4  +1    6\n",
       "2    3      Ecuador    3  1  1  1   4   3  +1    4\n",
       "3    4    Qatar (H)    3  0  0  3   1   7  −6    0"
      ]
     },
     "execution_count": 71,
     "metadata": {},
     "output_type": "execute_result"
    }
   ],
   "source": [
    "#View the table for Group A just to verify the right data was grabbed\n",
    "dict_table['Group A']"
   ]
  },
  {
   "cell_type": "code",
   "execution_count": 74,
   "id": "93fb459c",
   "metadata": {},
   "outputs": [],
   "source": [
    "#All data in the dict_table that was created, put it in a file named output\n",
    "with open('dict_table', 'wb') as output:\n",
    "    pickle.dump(dict_table, output)"
   ]
  },
  {
   "cell_type": "code",
   "execution_count": 80,
   "id": "a4a4aaba",
   "metadata": {},
   "outputs": [],
   "source": [
    "#Scrapping the Data from the previous world cups \n",
    "\n",
    "years = [1930, 1934, 1938, 1950, 1954, 1958, 1962, 1966,\n",
    "        1970, 1974, 1978, 1982, 1986, 1990, 1994, 1998,\n",
    "        2002, 2006, 2010, 2014, 2018]\n",
    "\n",
    "#Steps needed to scrape data for 2014 WC\n",
    "web = 'https://en.wikipedia.org/wiki/2014_FIFA_World_Cup'\n",
    "response = requests.get(web)\n",
    "content = response.text\n",
    "soup = BeautifulSoup(content, 'lxml')\n",
    "#grab all the matches into a list with lots of elements\n",
    "matches = soup.find_all('div', class_='footballbox')\n",
    "\n",
    "\n",
    "home = []\n",
    "score = []\n",
    "away = []\n",
    "\n",
    "\n",
    "#look through the lists to grab the home team, score, and away team\n",
    "for match in matches:\n",
    "    home.append(match.find('th', class_='fhome').get_text())\n",
    "    score.append(match.find('th', class_='fscore').get_text())\n",
    "    away.append(match.find('th', class_='faway').get_text())\n",
    "    \n",
    "#dictionary\n",
    "dict_football = {'home': home, 'score': score, 'away': away}\n",
    "\n",
    "#creating the football dataframe\n",
    "df_football = pd.DataFrame(dict_football)\n",
    "#creating a column that will indicate the year of the given worldcup\n",
    "df_football['year'] = '2014'"
   ]
  },
  {
   "cell_type": "code",
   "execution_count": 81,
   "id": "0464e467",
   "metadata": {},
   "outputs": [
    {
     "name": "stdout",
     "output_type": "stream",
     "text": [
      "            home         score          away  year\n",
      "0        Brazil            3–1       Croatia  2014\n",
      "1        Mexico            1–0      Cameroon  2014\n",
      "2        Brazil            0–0        Mexico  2014\n",
      "3      Cameroon            0–4       Croatia  2014\n",
      "4      Cameroon            1–4        Brazil  2014\n",
      "..           ...           ...           ...   ...\n",
      "59  Netherlands   0–0 (a.e.t.)    Costa Rica  2014\n",
      "60       Brazil            1–7       Germany  2014\n",
      "61  Netherlands   0–0 (a.e.t.)     Argentina  2014\n",
      "62       Brazil            0–3   Netherlands  2014\n",
      "63      Germany   1–0 (a.e.t.)     Argentina  2014\n",
      "\n",
      "[64 rows x 4 columns]\n"
     ]
    }
   ],
   "source": [
    "#preview of all the matches in the 2014 World Cup in Brazil\n",
    "print(df_football)"
   ]
  },
  {
   "cell_type": "code",
   "execution_count": 82,
   "id": "544316e8",
   "metadata": {},
   "outputs": [],
   "source": [
    "#Scrapping the data for all world cup up until 2018\n",
    "\n",
    "years = [1930, 1934, 1938, 1950, 1954, 1958, 1962, 1966,\n",
    "        1970, 1974, 1978, 1982, 1986, 1990, 1994, 1998,\n",
    "        2002, 2006, 2010, 2014, 2018]\n",
    "\n",
    "def get_matches(year):\n",
    "    web = f'https://en.wikipedia.org/wiki/{year}_FIFA_World_Cup'\n",
    "    response = requests.get(web)\n",
    "    content = response.text\n",
    "    soup = BeautifulSoup(content, 'lxml')\n",
    "    #grab all the matches into a list with lots of elements\n",
    "    matches = soup.find_all('div', class_='footballbox')\n",
    "\n",
    "\n",
    "    home = []\n",
    "    score = []\n",
    "    away = []\n",
    "\n",
    "\n",
    "    #look through the lists to grab the home team, score, and away team\n",
    "    for match in matches:\n",
    "        home.append(match.find('th', class_='fhome').get_text())\n",
    "        score.append(match.find('th', class_='fscore').get_text())\n",
    "        away.append(match.find('th', class_='faway').get_text())\n",
    "    \n",
    "    #dictionary\n",
    "    dict_football = {'home': home, 'score': score, 'away': away}\n",
    "\n",
    "    #creating the football dataframe\n",
    "    df_football = pd.DataFrame(dict_football)\n",
    "    #creating a column that will indicate the year of the given worldcup\n",
    "    df_football['year'] = year\n",
    "    return df_football"
   ]
  },
  {
   "cell_type": "code",
   "execution_count": 83,
   "id": "ec7ce2d1",
   "metadata": {},
   "outputs": [
    {
     "name": "stdout",
     "output_type": "stream",
     "text": [
      "        home         score           away  year\n",
      "0    Russia            5–0   Saudi Arabia  2018\n",
      "1     Egypt            0–1        Uruguay  2018\n",
      "2    Russia            3–1          Egypt  2018\n",
      "3   Uruguay            1–0   Saudi Arabia  2018\n",
      "4   Uruguay            3–0         Russia  2018\n",
      "..       ...           ...            ...   ...\n",
      "59   Russia   2–2 (a.e.t.)        Croatia  2018\n",
      "60   France            1–0        Belgium  2018\n",
      "61  Croatia   2–1 (a.e.t.)        England  2018\n",
      "62  Belgium            2–0        England  2018\n",
      "63   France            4–2        Croatia  2018\n",
      "\n",
      "[64 rows x 4 columns]\n"
     ]
    }
   ],
   "source": [
    "#Testing Function to see the results of the 2018 world cup\n",
    "print(get_matches('2018'))"
   ]
  },
  {
   "cell_type": "code",
   "execution_count": 84,
   "id": "208f9d66",
   "metadata": {},
   "outputs": [],
   "source": [
    "fifa = [get_matches(year) for year in years]\n",
    "#join all the tables from the fifa list that has all the tables\n",
    "df_fifa = pd.concat(fifa, ignore_index =True)\n",
    "df_fifa.to_csv('fifa_worldcup_historical_data.csv', index=False)\n"
   ]
  },
  {
   "cell_type": "code",
   "execution_count": 85,
   "id": "b6c1b7bd",
   "metadata": {},
   "outputs": [],
   "source": [
    "#Fixtures for 2022 Worldcup \n",
    "df_fixture22 = get_matches(2022)"
   ]
  },
  {
   "cell_type": "code",
   "execution_count": 87,
   "id": "695e379f",
   "metadata": {},
   "outputs": [],
   "source": [
    "#Save as a csv\n",
    "df_fixture22.to_csv('fifa_worldcup2022_fixture.csv', index=False)"
   ]
  },
  {
   "cell_type": "code",
   "execution_count": null,
   "id": "e6c26b06",
   "metadata": {},
   "outputs": [],
   "source": []
  }
 ],
 "metadata": {
  "kernelspec": {
   "display_name": "Python 3 (ipykernel)",
   "language": "python",
   "name": "python3"
  },
  "language_info": {
   "codemirror_mode": {
    "name": "ipython",
    "version": 3
   },
   "file_extension": ".py",
   "mimetype": "text/x-python",
   "name": "python",
   "nbconvert_exporter": "python",
   "pygments_lexer": "ipython3",
   "version": "3.9.12"
  }
 },
 "nbformat": 4,
 "nbformat_minor": 5
}
